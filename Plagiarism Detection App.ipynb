{
 "cells": [
  {
   "cell_type": "code",
   "execution_count": 1,
   "id": "3dc1ca0d",
   "metadata": {},
   "outputs": [],
   "source": [
    "import json\n",
    "import os\n",
    "import pinecone\n",
    "import re\n",
    "import requests\n",
    "from sentence_transformers import SentenceTransformer\n",
    "from statistics import mean\n",
    "import swifter\n",
    "import pandas as pd"
   ]
  },
  {
   "cell_type": "code",
   "execution_count": 2,
   "id": "fd597698",
   "metadata": {},
   "outputs": [],
   "source": [
    "from flask import Flask"
   ]
  },
  {
   "cell_type": "code",
   "execution_count": 3,
   "id": "3c3e484d",
   "metadata": {},
   "outputs": [],
   "source": [
    "app = Flask(__name__)\n",
    "\n",
    "PINECONE_INDEX_NAME = \"plagiarism-checker\"\n",
    "DATA_FILE = \"articles.csv\"\n",
    "NROWS = 20000"
   ]
  },
  {
   "cell_type": "code",
   "execution_count": 4,
   "id": "e9c801c4",
   "metadata": {},
   "outputs": [],
   "source": [
    "import pinecone\n",
    "pinecone.init(api_key=\"68ffb5f6-a308-443d-a900-fe671332783f\", environment=\"us-west1-gcp\")"
   ]
  },
  {
   "cell_type": "code",
   "execution_count": 5,
   "id": "8f8efcee",
   "metadata": {},
   "outputs": [
    {
     "data": {
      "text/plain": [
       "['plagiarism-checker']"
      ]
     },
     "execution_count": 5,
     "metadata": {},
     "output_type": "execute_result"
    }
   ],
   "source": [
    "pinecone.list_indexes()"
   ]
  },
  {
   "cell_type": "code",
   "execution_count": 6,
   "id": "1d84f77d",
   "metadata": {},
   "outputs": [],
   "source": [
    "def delete_existing_pinecone_index():\n",
    "    if plagiarism-checker in pinecone.list_indexes():\n",
    "        pinecone.delete_index(plagiarism-checker)"
   ]
  },
  {
   "cell_type": "code",
   "execution_count": 7,
   "id": "fbeda2a4",
   "metadata": {},
   "outputs": [],
   "source": [
    "def create_pinecone_index():\n",
    "    pinecone.create_index(name=Plagiarism-Detection, metric=\"cosine\", shards=1)\n",
    "    pinecone_index = pinecone.Index(name=Plagiarism-Detection)\n",
    "\n",
    "    return pinecone_index"
   ]
  },
  {
   "cell_type": "code",
   "execution_count": 8,
   "id": "07c16ed1",
   "metadata": {},
   "outputs": [],
   "source": [
    "def create_model():\n",
    "    model = SentenceTransformer('average_word_embeddings_komninos')\n",
    "\n",
    "    return model"
   ]
  },
  {
   "cell_type": "code",
   "execution_count": 9,
   "id": "2585ccb2",
   "metadata": {},
   "outputs": [],
   "source": [
    "def prepare_data(data):\n",
    "    # rename id column and remove unnecessary columns\n",
    "    data.rename(columns={\"Unnamed: 0\": \"article_id\"}, inplace = True)\n",
    "    data.drop(columns=['date'], inplace = True)\n",
    "\n",
    "    # combine the article title and content into a single field\n",
    "    data['content'] = data['content'].fillna('')\n",
    "    data['content'] = data.content.swifter.apply(lambda x: ' '.join(re.split(r'(?<=[.:;])\\s', x)))\n",
    "    data['title_and_content'] = data['title'] + ' ' + data['content']\n",
    "\n",
    "    # create a vector embedding based on title and article content\n",
    "    encoded_articles = model.encode(data['title_and_content'], show_progress_bar=True)\n",
    "    data['article_vector'] = pd.Series(encoded_articles.tolist())\n",
    "\n",
    "    return data"
   ]
  },
  {
   "cell_type": "code",
   "execution_count": 10,
   "id": "d9e49f0d",
   "metadata": {},
   "outputs": [],
   "source": [
    "def upload_items(data):\n",
    "    items_to_upload = [(row.id, row.article_vector) for i, row in data.iterrows()]\n",
    "    pinecone_index.upsert(items=items_to_upload)"
   ]
  },
  {
   "cell_type": "code",
   "execution_count": 11,
   "id": "a4ee8a89",
   "metadata": {},
   "outputs": [],
   "source": [
    "def process_file(filename):\n",
    "    data = pd.read_csv(\"C:\\\\Users\\\\rafyq\\\\OneDrive\\\\Desktop\\\\archive (2)\\\\articles1.csv\", nrows=NROWS)\n",
    "    data = prepare_data(data)\n",
    "    upload_items(data)\n",
    "    pinecone_index.info()\n",
    "\n",
    "    return data"
   ]
  },
  {
   "cell_type": "code",
   "execution_count": 12,
   "id": "e785db79",
   "metadata": {},
   "outputs": [],
   "source": [
    "def map_titles(data):\n",
    "    return dict(zip(uploaded_data.id, uploaded_data.title))"
   ]
  },
  {
   "cell_type": "code",
   "execution_count": 13,
   "id": "7c272b97",
   "metadata": {},
   "outputs": [],
   "source": [
    "def map_publications(data):\n",
    "    return dict(zip(uploaded_data.id, uploaded_data.publication))"
   ]
  },
  {
   "cell_type": "code",
   "execution_count": 15,
   "id": "bbb3a5d4",
   "metadata": {},
   "outputs": [],
   "source": [
    "def query_pinecone(originalContent):\n",
    "    query_content = str(originalContent)\n",
    "    query_vectors = [model.encode(query_content)]\n",
    "\n",
    "    query_results = pinecone_index.query(queries=query_vectors, top_k=10)\n",
    "    res = query_results[0]\n",
    "\n",
    "    results_list = []\n",
    "\n",
    "    for idx, _id in enumerate(res.ids):\n",
    "        results_list.append({\n",
    "            \"id\": _id,\n",
    "            \"title\": titles_mapped[int(_id)],\n",
    "            \"publication\": publications_mapped[int(_id)],\n",
    "            \"score\": res.scores[idx],\n",
    "        })\n",
    "\n",
    "    return json.dumps(results_list)"
   ]
  },
  {
   "cell_type": "code",
   "execution_count": null,
   "id": "608c0f62",
   "metadata": {},
   "outputs": [],
   "source": [
    "pinecone.init()\n",
    "model = create_model()\n",
    "uploaded_data = process_file(filename=articles1)\n",
    "titles_mapped = map_titles(uploaded_data)\n",
    "publications_mapped = map_publications(uploaded_data)"
   ]
  },
  {
   "cell_type": "code",
   "execution_count": 17,
   "id": "96bcd092",
   "metadata": {},
   "outputs": [],
   "source": [
    "@app.route(\"/\")\n",
    "def index():\n",
    "    return render_template(\"index.html\")"
   ]
  },
  {
   "cell_type": "code",
   "execution_count": 18,
   "id": "c3832619",
   "metadata": {},
   "outputs": [],
   "source": [
    "@app.route(\"/api/search\", methods=[\"POST\", \"GET\"])\n",
    "def search():\n",
    "    if request.method == \"POST\":\n",
    "        return query_pinecone(request.form.get(\"originalContent\", \"\"))\n",
    "    if request.method == \"GET\":\n",
    "        return query_pinecone(request.args.get(\"originalContent\", \"\"))\n",
    "        return \"Only GET and POST methods are allowed for this endpoint\""
   ]
  }
 ],
 "metadata": {
  "kernelspec": {
   "display_name": "Python 3",
   "language": "python",
   "name": "python3"
  },
  "language_info": {
   "codemirror_mode": {
    "name": "ipython",
    "version": 3
   },
   "file_extension": ".py",
   "mimetype": "text/x-python",
   "name": "python",
   "nbconvert_exporter": "python",
   "pygments_lexer": "ipython3",
   "version": "3.8.8"
  }
 },
 "nbformat": 4,
 "nbformat_minor": 5
}
